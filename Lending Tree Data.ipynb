{
 "cells": [
  {
   "cell_type": "markdown",
   "metadata": {},
   "source": [
    "# Lending Tree Classification Project\n",
    "\n",
    "### <a href=\"#wrangle\">Data Wrangling and Exploratory Analysis</a>\n",
    "### <a href=\"#preprocess\">Pre-Processing and Modeling </a>"
   ]
  },
  {
   "cell_type": "markdown",
   "metadata": {},
   "source": [
    "## <span id=\"wrangle\">Data Wrangling</span>"
   ]
  },
  {
   "cell_type": "code",
   "execution_count": 1,
   "metadata": {},
   "outputs": [],
   "source": [
    "#import the tools we will use\n",
    "import pandas as pd\n",
    "import numpy as np\n",
    "import seaborn as sns\n",
    "import matplotlib.pyplot as plt\n",
    "\n",
    "import warnings\n",
    "\n",
    "warnings.filterwarnings('ignore')\n",
    "\n",
    "loan_path = './data/lending_club_loans.csv'\n",
    "data_info = './data/LCDataDictionary.csv'\n",
    "df = pd.read_csv(loan_path, header=1)\n",
    "info = pd.read_csv(data_info)"
   ]
  },
  {
   "cell_type": "code",
   "execution_count": 2,
   "metadata": {},
   "outputs": [
    {
     "data": {
      "text/html": [
       "<div>\n",
       "<style scoped>\n",
       "    .dataframe tbody tr th:only-of-type {\n",
       "        vertical-align: middle;\n",
       "    }\n",
       "\n",
       "    .dataframe tbody tr th {\n",
       "        vertical-align: top;\n",
       "    }\n",
       "\n",
       "    .dataframe thead th {\n",
       "        text-align: right;\n",
       "    }\n",
       "</style>\n",
       "<table border=\"1\" class=\"dataframe\">\n",
       "  <thead>\n",
       "    <tr style=\"text-align: right;\">\n",
       "      <th></th>\n",
       "      <th>id</th>\n",
       "      <th>member_id</th>\n",
       "      <th>loan_amnt</th>\n",
       "      <th>funded_amnt</th>\n",
       "      <th>funded_amnt_inv</th>\n",
       "      <th>term</th>\n",
       "      <th>int_rate</th>\n",
       "      <th>installment</th>\n",
       "      <th>grade</th>\n",
       "      <th>sub_grade</th>\n",
       "      <th>...</th>\n",
       "      <th>num_tl_90g_dpd_24m</th>\n",
       "      <th>num_tl_op_past_12m</th>\n",
       "      <th>pct_tl_nvr_dlq</th>\n",
       "      <th>percent_bc_gt_75</th>\n",
       "      <th>pub_rec_bankruptcies</th>\n",
       "      <th>tax_liens</th>\n",
       "      <th>tot_hi_cred_lim</th>\n",
       "      <th>total_bal_ex_mort</th>\n",
       "      <th>total_bc_limit</th>\n",
       "      <th>total_il_high_credit_limit</th>\n",
       "    </tr>\n",
       "  </thead>\n",
       "  <tbody>\n",
       "    <tr>\n",
       "      <th>0</th>\n",
       "      <td>1077501</td>\n",
       "      <td>1296599.0</td>\n",
       "      <td>5000.0</td>\n",
       "      <td>5000.0</td>\n",
       "      <td>4975.0</td>\n",
       "      <td>36 months</td>\n",
       "      <td>10.65%</td>\n",
       "      <td>162.87</td>\n",
       "      <td>B</td>\n",
       "      <td>B2</td>\n",
       "      <td>...</td>\n",
       "      <td>NaN</td>\n",
       "      <td>NaN</td>\n",
       "      <td>NaN</td>\n",
       "      <td>NaN</td>\n",
       "      <td>0.0</td>\n",
       "      <td>0.0</td>\n",
       "      <td>NaN</td>\n",
       "      <td>NaN</td>\n",
       "      <td>NaN</td>\n",
       "      <td>NaN</td>\n",
       "    </tr>\n",
       "    <tr>\n",
       "      <th>1</th>\n",
       "      <td>1077430</td>\n",
       "      <td>1314167.0</td>\n",
       "      <td>2500.0</td>\n",
       "      <td>2500.0</td>\n",
       "      <td>2500.0</td>\n",
       "      <td>60 months</td>\n",
       "      <td>15.27%</td>\n",
       "      <td>59.83</td>\n",
       "      <td>C</td>\n",
       "      <td>C4</td>\n",
       "      <td>...</td>\n",
       "      <td>NaN</td>\n",
       "      <td>NaN</td>\n",
       "      <td>NaN</td>\n",
       "      <td>NaN</td>\n",
       "      <td>0.0</td>\n",
       "      <td>0.0</td>\n",
       "      <td>NaN</td>\n",
       "      <td>NaN</td>\n",
       "      <td>NaN</td>\n",
       "      <td>NaN</td>\n",
       "    </tr>\n",
       "    <tr>\n",
       "      <th>2</th>\n",
       "      <td>1077175</td>\n",
       "      <td>1313524.0</td>\n",
       "      <td>2400.0</td>\n",
       "      <td>2400.0</td>\n",
       "      <td>2400.0</td>\n",
       "      <td>36 months</td>\n",
       "      <td>15.96%</td>\n",
       "      <td>84.33</td>\n",
       "      <td>C</td>\n",
       "      <td>C5</td>\n",
       "      <td>...</td>\n",
       "      <td>NaN</td>\n",
       "      <td>NaN</td>\n",
       "      <td>NaN</td>\n",
       "      <td>NaN</td>\n",
       "      <td>0.0</td>\n",
       "      <td>0.0</td>\n",
       "      <td>NaN</td>\n",
       "      <td>NaN</td>\n",
       "      <td>NaN</td>\n",
       "      <td>NaN</td>\n",
       "    </tr>\n",
       "    <tr>\n",
       "      <th>3</th>\n",
       "      <td>1076863</td>\n",
       "      <td>1277178.0</td>\n",
       "      <td>10000.0</td>\n",
       "      <td>10000.0</td>\n",
       "      <td>10000.0</td>\n",
       "      <td>36 months</td>\n",
       "      <td>13.49%</td>\n",
       "      <td>339.31</td>\n",
       "      <td>C</td>\n",
       "      <td>C1</td>\n",
       "      <td>...</td>\n",
       "      <td>NaN</td>\n",
       "      <td>NaN</td>\n",
       "      <td>NaN</td>\n",
       "      <td>NaN</td>\n",
       "      <td>0.0</td>\n",
       "      <td>0.0</td>\n",
       "      <td>NaN</td>\n",
       "      <td>NaN</td>\n",
       "      <td>NaN</td>\n",
       "      <td>NaN</td>\n",
       "    </tr>\n",
       "    <tr>\n",
       "      <th>4</th>\n",
       "      <td>1075358</td>\n",
       "      <td>1311748.0</td>\n",
       "      <td>3000.0</td>\n",
       "      <td>3000.0</td>\n",
       "      <td>3000.0</td>\n",
       "      <td>60 months</td>\n",
       "      <td>12.69%</td>\n",
       "      <td>67.79</td>\n",
       "      <td>B</td>\n",
       "      <td>B5</td>\n",
       "      <td>...</td>\n",
       "      <td>NaN</td>\n",
       "      <td>NaN</td>\n",
       "      <td>NaN</td>\n",
       "      <td>NaN</td>\n",
       "      <td>0.0</td>\n",
       "      <td>0.0</td>\n",
       "      <td>NaN</td>\n",
       "      <td>NaN</td>\n",
       "      <td>NaN</td>\n",
       "      <td>NaN</td>\n",
       "    </tr>\n",
       "  </tbody>\n",
       "</table>\n",
       "<p>5 rows × 115 columns</p>\n",
       "</div>"
      ],
      "text/plain": [
       "        id  member_id  loan_amnt  funded_amnt  funded_amnt_inv        term  \\\n",
       "0  1077501  1296599.0     5000.0       5000.0           4975.0   36 months   \n",
       "1  1077430  1314167.0     2500.0       2500.0           2500.0   60 months   \n",
       "2  1077175  1313524.0     2400.0       2400.0           2400.0   36 months   \n",
       "3  1076863  1277178.0    10000.0      10000.0          10000.0   36 months   \n",
       "4  1075358  1311748.0     3000.0       3000.0           3000.0   60 months   \n",
       "\n",
       "  int_rate  installment grade sub_grade  ... num_tl_90g_dpd_24m  \\\n",
       "0   10.65%       162.87     B        B2  ...                NaN   \n",
       "1   15.27%        59.83     C        C4  ...                NaN   \n",
       "2   15.96%        84.33     C        C5  ...                NaN   \n",
       "3   13.49%       339.31     C        C1  ...                NaN   \n",
       "4   12.69%        67.79     B        B5  ...                NaN   \n",
       "\n",
       "  num_tl_op_past_12m pct_tl_nvr_dlq  percent_bc_gt_75 pub_rec_bankruptcies  \\\n",
       "0                NaN            NaN               NaN                  0.0   \n",
       "1                NaN            NaN               NaN                  0.0   \n",
       "2                NaN            NaN               NaN                  0.0   \n",
       "3                NaN            NaN               NaN                  0.0   \n",
       "4                NaN            NaN               NaN                  0.0   \n",
       "\n",
       "  tax_liens tot_hi_cred_lim total_bal_ex_mort total_bc_limit  \\\n",
       "0       0.0             NaN               NaN            NaN   \n",
       "1       0.0             NaN               NaN            NaN   \n",
       "2       0.0             NaN               NaN            NaN   \n",
       "3       0.0             NaN               NaN            NaN   \n",
       "4       0.0             NaN               NaN            NaN   \n",
       "\n",
       "  total_il_high_credit_limit  \n",
       "0                        NaN  \n",
       "1                        NaN  \n",
       "2                        NaN  \n",
       "3                        NaN  \n",
       "4                        NaN  \n",
       "\n",
       "[5 rows x 115 columns]"
      ]
     },
     "execution_count": 2,
     "metadata": {},
     "output_type": "execute_result"
    }
   ],
   "source": [
    "df.head()"
   ]
  },
  {
   "cell_type": "markdown",
   "metadata": {},
   "source": [
    "### Check how many rows and columns"
   ]
  },
  {
   "cell_type": "code",
   "execution_count": 3,
   "metadata": {},
   "outputs": [
    {
     "data": {
      "text/plain": [
       "(42538, 115)"
      ]
     },
     "execution_count": 3,
     "metadata": {},
     "output_type": "execute_result"
    }
   ],
   "source": [
    "df.shape"
   ]
  },
  {
   "cell_type": "markdown",
   "metadata": {},
   "source": [
    "### Check that the types of each feature makes sense"
   ]
  },
  {
   "cell_type": "code",
   "execution_count": 4,
   "metadata": {
    "scrolled": false
   },
   "outputs": [
    {
     "data": {
      "text/plain": [
       "id                                                               1077430\n",
       "term                                                           60 months\n",
       "int_rate                                                          15.27%\n",
       "grade                                                                  C\n",
       "sub_grade                                                             C4\n",
       "emp_title                                                          Ryder\n",
       "emp_length                                                      < 1 year\n",
       "home_ownership                                                      RENT\n",
       "verification_status                                      Source Verified\n",
       "issue_d                                                         Dec-2011\n",
       "loan_status                                                  Charged Off\n",
       "pymnt_plan                                                             n\n",
       "url                    https://lendingclub.com/browse/loanDetail.acti...\n",
       "desc                     Borrower added on 12/22/11 > I plan to use t...\n",
       "purpose                                                              car\n",
       "title                                                               bike\n",
       "zip_code                                                           309xx\n",
       "addr_state                                                            GA\n",
       "earliest_cr_line                                                Apr-1999\n",
       "revol_util                                                          9.4%\n",
       "initial_list_status                                                    f\n",
       "last_pymnt_d                                                    Apr-2013\n",
       "next_pymnt_d                                                         NaN\n",
       "last_credit_pull_d                                              Sep-2016\n",
       "application_type                                              INDIVIDUAL\n",
       "Name: 1, dtype: object"
      ]
     },
     "execution_count": 4,
     "metadata": {},
     "output_type": "execute_result"
    }
   ],
   "source": [
    "## make a copy of the DF\n",
    "loans = df.copy()\n",
    "\n",
    "objects = list()\n",
    "# use for loop to print every feature - .dtypes method only prints first and last few\n",
    "for i, t in enumerate(loans.dtypes):\n",
    "    if t == object:\n",
    "        objects.append(loans.columns[i])\n",
    "#         print(\"loans['{}'] = loans['{}'].map(lambda x: )\".format(loans.columns[i],loans.columns[i]))\n",
    "\n",
    "### View the features that are of type \"object\"        \n",
    "loans.loc[1,objects]"
   ]
  },
  {
   "cell_type": "markdown",
   "metadata": {},
   "source": [
    "### What needs to be changed? (My To Do List)"
   ]
  },
  {
   "cell_type": "markdown",
   "metadata": {},
   "source": [
    "<b>id</b>: ?\n",
    "<br><b>term</b>: drop months and convert to int64\n",
    "<br><b>int_rate</b>: drop percent sign convert to float\n",
    "<br><b>grade</b>: map to number system - keep the hash to use as legend later: or use built in one hot encoder\n",
    "<br><b>sub_grade</b>: map to number system - keep the hash to use as legend later: or use built in one hot encoder\n",
    "<br><b>emp_title</b>: ?\n",
    "<br><b>emp_length</b>: possibly bin items - look at .value_counts\n",
    "<br><b>home_ownership</b>: map to number system - keep the hash to use as legend later: or use built in one hot encoder\n",
    "<br><b>verification_status</b>: map to number system - keep the hash to use as legend later: or use built in one hot encoder\n",
    "<br><b>issue_d</b>: convert to datetime\n",
    "<br><b>loan_status</b>: map to number system - keep the hash to use as legend later: or use built in one hot encoder\n",
    "<br><b>pymnt_plan</b>: change to boolean, check .value_counts\n",
    "<br><b>url</b>: ?\n",
    "<br><b>desc</b>: ?\n",
    "<br><b>purpose</b>: map to number system - keep the hash to use as legend later: or use built in one hot encoder\n",
    "<br><b>title</b>: map to number system - keep the hash to use as legend later: or use built in one hot encoder\n",
    "<br><b>zip_code</b>: convert to int64, check .value_counts\n",
    "<br><b>addr_state</b>: map to number system - keep the hash to use as legend later: or use built in one hot encoder\n",
    "<br><b>earliest_cr_line</b>: convert to datetime\n",
    "<br><b>revol_util</b>: drop percent sign, convert to float\n",
    "<br><b>initial_list_status</b>: map to number system - keep the hash to use as legend later: or use built in one hot encoder\n",
    "<br><b>last_pymnt_d</b>: convert to datetime\n",
    "<br><b>next_pymnt_d</b>: convert to datetime\n",
    "<br><b>last_credit_pull_d</b>: convert to datetime\n",
    "<br><b>application_type</b>: map to number system - keep the hash to use as legend later: or use built in one hot encoder"
   ]
  },
  {
   "cell_type": "markdown",
   "metadata": {},
   "source": [
    "#### My To Do List Being done"
   ]
  },
  {
   "cell_type": "code",
   "execution_count": 5,
   "metadata": {},
   "outputs": [],
   "source": [
    "# create the hash map to one hot encode each column\n",
    "def mapper(df_unique_list):\n",
    "    mapped = dict()\n",
    "    for i, c in enumerate(df_unique_list):\n",
    "        if c != np.NaN:\n",
    "            mapped[c] = int(i)\n",
    "    del mapped[np.NaN]\n",
    "    return mapped"
   ]
  },
  {
   "cell_type": "code",
   "execution_count": 6,
   "metadata": {},
   "outputs": [],
   "source": [
    "loans['term'] = loans['term'].map(lambda x: int(x.strip('months')), na_action=\"ignore\")\n",
    "loans['int_rate'] = loans['int_rate'].map(lambda x: float(x.strip('%')), na_action=\"ignore\")\n",
    "loans['grade'] = loans.grade.replace(mapper(loans.grade.unique()))\n",
    "loans['sub_grade'] = loans.sub_grade.replace(mapper(loans.sub_grade.unique()))\n",
    "loans['emp_title'] = loans['emp_title'].replace(mapper(loans.emp_title.unique()))\n",
    "loans['emp_length'] = loans['emp_length'].map(lambda x: int(x.strip(' +<years')), na_action=\"ignore\")\n",
    "loans['home_ownership'] = loans['home_ownership'].replace(mapper(loans.home_ownership.unique()))\n",
    "loans['verification_status'] = loans['verification_status'].replace(mapper(loans.verification_status.unique()))\n",
    "loans['issue_d'] = loans['issue_d'].map(lambda x: pd.to_datetime(x))\n",
    "loans['loan_status'] = loans['loan_status'].replace(mapper(loans.loan_status.unique()))\n",
    "loans['pymnt_plan'] = loans['pymnt_plan'].replace(mapper(loans.pymnt_plan.unique()))\n",
    "loans['desc'] = loans['desc'].replace(mapper(loans.desc.unique()))\n",
    "loans['purpose'] = loans['purpose'].replace(mapper(loans.purpose.unique()))\n",
    "loans['title'] = loans['title'].replace(mapper(loans.title.unique()))\n",
    "loans['zip_code'] = loans['zip_code'].map(lambda x: int(x.strip('x')), na_action=\"ignore\")\n",
    "loans['addr_state'] = loans['addr_state'].replace(mapper(loans.addr_state.unique()))\n",
    "loans['earliest_cr_line'] = loans['earliest_cr_line'].map(lambda x: pd.to_datetime(x))\n",
    "loans['revol_util'] = loans['revol_util'].map(lambda x: float(x.strip('%')), na_action=\"ignore\")\n",
    "loans['initial_list_status'] = loans['initial_list_status'].replace(mapper(loans.initial_list_status.unique()))\n",
    "loans['last_pymnt_d'] = loans['last_pymnt_d'].map(lambda x: pd.to_datetime(x))\n",
    "loans['next_pymnt_d'] = loans['next_pymnt_d'].map(lambda x: pd.to_datetime(x))\n",
    "loans['last_credit_pull_d'] = loans['last_credit_pull_d'].map(lambda x: pd.to_datetime(x))\n",
    "loans['application_type'] = loans['application_type'].replace(mapper(loans.application_type.unique()))\n",
    "\n",
    "# engineer a feature based on if the loans meet the credit policy\n",
    "# 39786 is the index where the DF says that the loans do not meet the credit policy\n",
    "loans['meet_credit_policy'] = loans.apply(lambda x: 1 if x.name > 39786 else 0, axis=1)"
   ]
  },
  {
   "cell_type": "code",
   "execution_count": 7,
   "metadata": {},
   "outputs": [
    {
     "data": {
      "text/html": [
       "<div>\n",
       "<style scoped>\n",
       "    .dataframe tbody tr th:only-of-type {\n",
       "        vertical-align: middle;\n",
       "    }\n",
       "\n",
       "    .dataframe tbody tr th {\n",
       "        vertical-align: top;\n",
       "    }\n",
       "\n",
       "    .dataframe thead th {\n",
       "        text-align: right;\n",
       "    }\n",
       "</style>\n",
       "<table border=\"1\" class=\"dataframe\">\n",
       "  <thead>\n",
       "    <tr style=\"text-align: right;\">\n",
       "      <th></th>\n",
       "      <th>id</th>\n",
       "    </tr>\n",
       "  </thead>\n",
       "  <tbody>\n",
       "    <tr>\n",
       "      <th>39786</th>\n",
       "      <td>Loans that do not meet the credit policy</td>\n",
       "    </tr>\n",
       "    <tr>\n",
       "      <th>42536</th>\n",
       "      <td>Total amount funded in policy code 1: 460296150</td>\n",
       "    </tr>\n",
       "    <tr>\n",
       "      <th>42537</th>\n",
       "      <td>Total amount funded in policy code 2: 0</td>\n",
       "    </tr>\n",
       "  </tbody>\n",
       "</table>\n",
       "</div>"
      ],
      "text/plain": [
       "                                                    id\n",
       "39786         Loans that do not meet the credit policy\n",
       "42536  Total amount funded in policy code 1: 460296150\n",
       "42537          Total amount funded in policy code 2: 0"
      ]
     },
     "execution_count": 7,
     "metadata": {},
     "output_type": "execute_result"
    }
   ],
   "source": [
    "# find the rows with notes in the id column\n",
    "isstr =loans.id.apply(lambda row: len(row)>6 if isinstance(row, str) else False)\n",
    "loans.loc[isstr, ['id']]"
   ]
  },
  {
   "cell_type": "code",
   "execution_count": 8,
   "metadata": {},
   "outputs": [],
   "source": [
    "## drop the rows with notes in the id column\n",
    "loans = loans.drop(labels=[39786,42536,42537])"
   ]
  },
  {
   "cell_type": "code",
   "execution_count": 9,
   "metadata": {},
   "outputs": [],
   "source": [
    "## now drop the id and url columns\n",
    "loans = loans.drop(labels = ['id', 'url'], axis=1)"
   ]
  },
  {
   "cell_type": "markdown",
   "metadata": {},
   "source": [
    "### How to handle Missing Values?"
   ]
  },
  {
   "cell_type": "code",
   "execution_count": 10,
   "metadata": {},
   "outputs": [
    {
     "data": {
      "text/plain": [
       "<AxesSubplot:>"
      ]
     },
     "execution_count": 10,
     "metadata": {},
     "output_type": "execute_result"
    },
    {
     "data": {
      "image/png": "[encoded data removed]",
      "text/plain": [
       "<Figure size 432x288 with 2 Axes>"
      ]
     },
     "metadata": {
      "needs_background": "light"
     },
     "output_type": "display_data"
    }
   ],
   "source": [
    "sns.heatmap(loans.isna())"
   ]
  },
  {
   "cell_type": "markdown",
   "metadata": {},
   "source": [
    "#### check for any values in the column"
   ]
  },
  {
   "cell_type": "code",
   "execution_count": 11,
   "metadata": {},
   "outputs": [],
   "source": [
    "dropping = list()\n",
    "for i, empty in enumerate(loans.any()):\n",
    "    if not empty:\n",
    "        dropping.append(loans.columns[i])\n",
    "dropped = loans.drop(labels=dropping, axis=1)"
   ]
  },
  {
   "cell_type": "code",
   "execution_count": 12,
   "metadata": {},
   "outputs": [
    {
     "data": {
      "text/plain": [
       "<AxesSubplot:>"
      ]
     },
     "execution_count": 12,
     "metadata": {},
     "output_type": "execute_result"
    },
    {
     "data": {
      "image/png": "[encoded data removed]",
      "text/plain": [
       "<Figure size 1440x216 with 2 Axes>"
      ]
     },
     "metadata": {
      "needs_background": "light"
     },
     "output_type": "display_data"
    }
   ],
   "source": [
    "plt.figure(figsize=(20,3))\n",
    "sns.heatmap(dropped.isna())"
   ]
  },
  {
   "cell_type": "markdown",
   "metadata": {},
   "source": [
    "### Noting the percentage of missing data "
   ]
  },
  {
   "cell_type": "markdown",
   "metadata": {},
   "source": [
    "'next_pymnt_d' and 'mnths_since_last_record' columns are clearly missing more that 90% of its data. Let's look closer at 'mnths_since_last_delinq' and other rows"
   ]
  },
  {
   "cell_type": "code",
   "execution_count": 13,
   "metadata": {},
   "outputs": [
    {
     "data": {
      "text/plain": [
       "member_id                   0.000000\n",
       "loan_amnt                   0.000000\n",
       "funded_amnt                 0.000000\n",
       "funded_amnt_inv             0.000000\n",
       "term                        0.000000\n",
       "int_rate                    0.000000\n",
       "installment                 0.000000\n",
       "grade                       0.000000\n",
       "sub_grade                   0.000000\n",
       "emp_title                   6.173739\n",
       "emp_length                  2.614318\n",
       "home_ownership              0.000000\n",
       "annual_inc                  0.009404\n",
       "verification_status         0.000000\n",
       "issue_d                     0.000000\n",
       "loan_status                 0.000000\n",
       "pymnt_plan                  0.000000\n",
       "desc                       31.251910\n",
       "purpose                     0.000000\n",
       "title                       0.030563\n",
       "zip_code                    0.000000\n",
       "addr_state                  0.000000\n",
       "dti                         0.000000\n",
       "delinq_2yrs                 0.068179\n",
       "earliest_cr_line            0.068179\n",
       "fico_range_low              0.000000\n",
       "fico_range_high             0.000000\n",
       "inq_last_6mths              0.068179\n",
       "mths_since_last_delinq     63.303162\n",
       "mths_since_last_record     91.416481\n",
       "open_acc                    0.068179\n",
       "pub_rec                     0.068179\n",
       "revol_bal                   0.000000\n",
       "revol_util                  0.211590\n",
       "total_acc                   0.068179\n",
       "out_prncp                   0.000000\n",
       "out_prncp_inv               0.000000\n",
       "total_pymnt                 0.000000\n",
       "total_pymnt_inv             0.000000\n",
       "total_rec_prncp             0.000000\n",
       "total_rec_int               0.000000\n",
       "total_rec_late_fee          0.000000\n",
       "recoveries                  0.000000\n",
       "collection_recovery_fee     0.000000\n",
       "last_pymnt_d                0.195133\n",
       "last_pymnt_amnt             0.000000\n",
       "next_pymnt_d               92.251087\n",
       "last_credit_pull_d          0.009404\n",
       "last_fico_range_high        0.000000\n",
       "last_fico_range_low         0.000000\n",
       "policy_code                 0.000000\n",
       "acc_now_delinq              0.068179\n",
       "delinq_amnt                 0.068179\n",
       "pub_rec_bankruptcies        3.209122\n",
       "tax_liens                   0.246856\n",
       "meet_credit_policy          0.000000\n",
       "dtype: float64"
      ]
     },
     "execution_count": 13,
     "metadata": {},
     "output_type": "execute_result"
    }
   ],
   "source": [
    "dropped.isnull().sum() * 100 / len(dropped)"
   ]
  },
  {
   "cell_type": "markdown",
   "metadata": {},
   "source": [
    "There is too much data missing from 'next_pymnt_d' and 'mths_since_last_record' so I will drop these columns. Next, I will use KNN Imputer to fill missing values based on similar instances. "
   ]
  },
  {
   "cell_type": "code",
   "execution_count": 14,
   "metadata": {},
   "outputs": [],
   "source": [
    "dropped.drop(columns=['next_pymnt_d', 'mths_since_last_record'], axis=1, inplace=True)"
   ]
  },
  {
   "cell_type": "code",
   "execution_count": 15,
   "metadata": {},
   "outputs": [],
   "source": [
    "loans['issue_d'] = loans['issue_d'].map(lambda x: pd.to_datetime(x))\n",
    "loans['earliest_cr_line'] = loans['earliest_cr_line'].map(lambda x: pd.to_datetime(x))\n",
    "loans['last_pymnt_d'] = loans['last_pymnt_d'].map(lambda x: pd.to_datetime(x))\n",
    "loans['last_credit_pull_d'] = loans['last_credit_pull_d'].map(lambda x: pd.to_datetime(x))"
   ]
  },
  {
   "cell_type": "code",
   "execution_count": 16,
   "metadata": {},
   "outputs": [],
   "source": [
    "import datetime as dt\n",
    "\n",
    "# get a datetime that is equal to epoch\n",
    "epoch = dt.datetime(1970, 1, 1)\n"
   ]
  },
  {
   "cell_type": "code",
   "execution_count": 17,
   "metadata": {},
   "outputs": [],
   "source": [
    "dropped['issue_d'] = dropped['issue_d'].map(lambda x:(pd.to_datetime(x) - epoch).total_seconds())\n",
    "dropped['earliest_cr_line'] = dropped['earliest_cr_line'].map(lambda x:(pd.to_datetime(x) - epoch).total_seconds())\n",
    "dropped['last_pymnt_d'] = dropped['last_pymnt_d'].map(lambda x:(pd.to_datetime(x) - epoch).total_seconds())\n",
    "dropped['last_credit_pull_d'] = dropped['last_credit_pull_d'].map(lambda x:(pd.to_datetime(x) - epoch).total_seconds())"
   ]
  },
  {
   "cell_type": "code",
   "execution_count": 18,
   "metadata": {},
   "outputs": [],
   "source": [
    "from sklearn.impute import KNNImputer\n",
    "\n",
    "imputer = KNNImputer(n_neighbors=2, weights='distance')\n",
    "#drop columns with datetime \n",
    "# filled_arr = imputer.fit_transform(dropped.drop(columns=['last_credit_pull_d','last_pymnt_d','earliest_cr_line','issue_d']))\n",
    "filled_arr = imputer.fit_transform(dropped)"
   ]
  },
  {
   "cell_type": "code",
   "execution_count": 19,
   "metadata": {},
   "outputs": [],
   "source": [
    "filled = pd.DataFrame(filled_arr, columns=dropped.columns)"
   ]
  },
  {
   "cell_type": "code",
   "execution_count": 20,
   "metadata": {},
   "outputs": [
    {
     "data": {
      "text/html": [
       "<div>\n",
       "<style scoped>\n",
       "    .dataframe tbody tr th:only-of-type {\n",
       "        vertical-align: middle;\n",
       "    }\n",
       "\n",
       "    .dataframe tbody tr th {\n",
       "        vertical-align: top;\n",
       "    }\n",
       "\n",
       "    .dataframe thead th {\n",
       "        text-align: right;\n",
       "    }\n",
       "</style>\n",
       "<table border=\"1\" class=\"dataframe\">\n",
       "  <thead>\n",
       "    <tr style=\"text-align: right;\">\n",
       "      <th></th>\n",
       "      <th>member_id</th>\n",
       "      <th>loan_amnt</th>\n",
       "      <th>funded_amnt</th>\n",
       "      <th>funded_amnt_inv</th>\n",
       "      <th>term</th>\n",
       "      <th>int_rate</th>\n",
       "      <th>installment</th>\n",
       "      <th>grade</th>\n",
       "      <th>sub_grade</th>\n",
       "      <th>emp_title</th>\n",
       "      <th>...</th>\n",
       "      <th>last_pymnt_amnt</th>\n",
       "      <th>last_credit_pull_d</th>\n",
       "      <th>last_fico_range_high</th>\n",
       "      <th>last_fico_range_low</th>\n",
       "      <th>policy_code</th>\n",
       "      <th>acc_now_delinq</th>\n",
       "      <th>delinq_amnt</th>\n",
       "      <th>pub_rec_bankruptcies</th>\n",
       "      <th>tax_liens</th>\n",
       "      <th>meet_credit_policy</th>\n",
       "    </tr>\n",
       "  </thead>\n",
       "  <tbody>\n",
       "    <tr>\n",
       "      <th>0</th>\n",
       "      <td>1296599.0</td>\n",
       "      <td>5000.0</td>\n",
       "      <td>5000.0</td>\n",
       "      <td>4975.0</td>\n",
       "      <td>36.0</td>\n",
       "      <td>10.65</td>\n",
       "      <td>162.87</td>\n",
       "      <td>0.0</td>\n",
       "      <td>0.0</td>\n",
       "      <td>2166.978765</td>\n",
       "      <td>...</td>\n",
       "      <td>171.62</td>\n",
       "      <td>1.472688e+09</td>\n",
       "      <td>744.0</td>\n",
       "      <td>740.0</td>\n",
       "      <td>1.0</td>\n",
       "      <td>0.0</td>\n",
       "      <td>0.0</td>\n",
       "      <td>0.0</td>\n",
       "      <td>0.0</td>\n",
       "      <td>0.0</td>\n",
       "    </tr>\n",
       "    <tr>\n",
       "      <th>1</th>\n",
       "      <td>1314167.0</td>\n",
       "      <td>2500.0</td>\n",
       "      <td>2500.0</td>\n",
       "      <td>2500.0</td>\n",
       "      <td>60.0</td>\n",
       "      <td>15.27</td>\n",
       "      <td>59.83</td>\n",
       "      <td>1.0</td>\n",
       "      <td>1.0</td>\n",
       "      <td>1.000000</td>\n",
       "      <td>...</td>\n",
       "      <td>119.66</td>\n",
       "      <td>1.472688e+09</td>\n",
       "      <td>499.0</td>\n",
       "      <td>0.0</td>\n",
       "      <td>1.0</td>\n",
       "      <td>0.0</td>\n",
       "      <td>0.0</td>\n",
       "      <td>0.0</td>\n",
       "      <td>0.0</td>\n",
       "      <td>0.0</td>\n",
       "    </tr>\n",
       "    <tr>\n",
       "      <th>2</th>\n",
       "      <td>1313524.0</td>\n",
       "      <td>2400.0</td>\n",
       "      <td>2400.0</td>\n",
       "      <td>2400.0</td>\n",
       "      <td>36.0</td>\n",
       "      <td>15.96</td>\n",
       "      <td>84.33</td>\n",
       "      <td>1.0</td>\n",
       "      <td>2.0</td>\n",
       "      <td>721.478503</td>\n",
       "      <td>...</td>\n",
       "      <td>649.91</td>\n",
       "      <td>1.472688e+09</td>\n",
       "      <td>719.0</td>\n",
       "      <td>715.0</td>\n",
       "      <td>1.0</td>\n",
       "      <td>0.0</td>\n",
       "      <td>0.0</td>\n",
       "      <td>0.0</td>\n",
       "      <td>0.0</td>\n",
       "      <td>0.0</td>\n",
       "    </tr>\n",
       "    <tr>\n",
       "      <th>3</th>\n",
       "      <td>1277178.0</td>\n",
       "      <td>10000.0</td>\n",
       "      <td>10000.0</td>\n",
       "      <td>10000.0</td>\n",
       "      <td>36.0</td>\n",
       "      <td>13.49</td>\n",
       "      <td>339.31</td>\n",
       "      <td>1.0</td>\n",
       "      <td>3.0</td>\n",
       "      <td>2.000000</td>\n",
       "      <td>...</td>\n",
       "      <td>357.48</td>\n",
       "      <td>1.459469e+09</td>\n",
       "      <td>604.0</td>\n",
       "      <td>600.0</td>\n",
       "      <td>1.0</td>\n",
       "      <td>0.0</td>\n",
       "      <td>0.0</td>\n",
       "      <td>0.0</td>\n",
       "      <td>0.0</td>\n",
       "      <td>0.0</td>\n",
       "    </tr>\n",
       "    <tr>\n",
       "      <th>4</th>\n",
       "      <td>1311748.0</td>\n",
       "      <td>3000.0</td>\n",
       "      <td>3000.0</td>\n",
       "      <td>3000.0</td>\n",
       "      <td>60.0</td>\n",
       "      <td>12.69</td>\n",
       "      <td>67.79</td>\n",
       "      <td>0.0</td>\n",
       "      <td>4.0</td>\n",
       "      <td>3.000000</td>\n",
       "      <td>...</td>\n",
       "      <td>67.79</td>\n",
       "      <td>1.472688e+09</td>\n",
       "      <td>694.0</td>\n",
       "      <td>690.0</td>\n",
       "      <td>1.0</td>\n",
       "      <td>0.0</td>\n",
       "      <td>0.0</td>\n",
       "      <td>0.0</td>\n",
       "      <td>0.0</td>\n",
       "      <td>0.0</td>\n",
       "    </tr>\n",
       "    <tr>\n",
       "      <th>...</th>\n",
       "      <td>...</td>\n",
       "      <td>...</td>\n",
       "      <td>...</td>\n",
       "      <td>...</td>\n",
       "      <td>...</td>\n",
       "      <td>...</td>\n",
       "      <td>...</td>\n",
       "      <td>...</td>\n",
       "      <td>...</td>\n",
       "      <td>...</td>\n",
       "      <td>...</td>\n",
       "      <td>...</td>\n",
       "      <td>...</td>\n",
       "      <td>...</td>\n",
       "      <td>...</td>\n",
       "      <td>...</td>\n",
       "      <td>...</td>\n",
       "      <td>...</td>\n",
       "      <td>...</td>\n",
       "      <td>...</td>\n",
       "      <td>...</td>\n",
       "    </tr>\n",
       "    <tr>\n",
       "      <th>42530</th>\n",
       "      <td>73096.0</td>\n",
       "      <td>3500.0</td>\n",
       "      <td>3500.0</td>\n",
       "      <td>225.0</td>\n",
       "      <td>36.0</td>\n",
       "      <td>10.28</td>\n",
       "      <td>113.39</td>\n",
       "      <td>1.0</td>\n",
       "      <td>3.0</td>\n",
       "      <td>30516.075282</td>\n",
       "      <td>...</td>\n",
       "      <td>0.00</td>\n",
       "      <td>1.359677e+09</td>\n",
       "      <td>819.0</td>\n",
       "      <td>815.0</td>\n",
       "      <td>1.0</td>\n",
       "      <td>0.0</td>\n",
       "      <td>0.0</td>\n",
       "      <td>0.0</td>\n",
       "      <td>0.0</td>\n",
       "      <td>1.0</td>\n",
       "    </tr>\n",
       "    <tr>\n",
       "      <th>42531</th>\n",
       "      <td>72992.0</td>\n",
       "      <td>1000.0</td>\n",
       "      <td>1000.0</td>\n",
       "      <td>0.0</td>\n",
       "      <td>36.0</td>\n",
       "      <td>9.64</td>\n",
       "      <td>32.11</td>\n",
       "      <td>0.0</td>\n",
       "      <td>13.0</td>\n",
       "      <td>30657.000000</td>\n",
       "      <td>...</td>\n",
       "      <td>32.41</td>\n",
       "      <td>1.409530e+09</td>\n",
       "      <td>784.0</td>\n",
       "      <td>780.0</td>\n",
       "      <td>1.0</td>\n",
       "      <td>0.0</td>\n",
       "      <td>0.0</td>\n",
       "      <td>0.0</td>\n",
       "      <td>0.0</td>\n",
       "      <td>1.0</td>\n",
       "    </tr>\n",
       "    <tr>\n",
       "      <th>42532</th>\n",
       "      <td>70868.0</td>\n",
       "      <td>2525.0</td>\n",
       "      <td>2525.0</td>\n",
       "      <td>225.0</td>\n",
       "      <td>36.0</td>\n",
       "      <td>9.33</td>\n",
       "      <td>80.69</td>\n",
       "      <td>0.0</td>\n",
       "      <td>12.0</td>\n",
       "      <td>28853.499629</td>\n",
       "      <td>...</td>\n",
       "      <td>82.03</td>\n",
       "      <td>1.177978e+09</td>\n",
       "      <td>714.0</td>\n",
       "      <td>710.0</td>\n",
       "      <td>1.0</td>\n",
       "      <td>0.0</td>\n",
       "      <td>0.0</td>\n",
       "      <td>0.0</td>\n",
       "      <td>0.0</td>\n",
       "      <td>1.0</td>\n",
       "    </tr>\n",
       "    <tr>\n",
       "      <th>42533</th>\n",
       "      <td>70735.0</td>\n",
       "      <td>6500.0</td>\n",
       "      <td>6500.0</td>\n",
       "      <td>0.0</td>\n",
       "      <td>36.0</td>\n",
       "      <td>8.38</td>\n",
       "      <td>204.84</td>\n",
       "      <td>2.0</td>\n",
       "      <td>17.0</td>\n",
       "      <td>28853.499916</td>\n",
       "      <td>...</td>\n",
       "      <td>205.32</td>\n",
       "      <td>1.185926e+09</td>\n",
       "      <td>724.0</td>\n",
       "      <td>720.0</td>\n",
       "      <td>1.0</td>\n",
       "      <td>0.0</td>\n",
       "      <td>0.0</td>\n",
       "      <td>0.0</td>\n",
       "      <td>0.0</td>\n",
       "      <td>1.0</td>\n",
       "    </tr>\n",
       "    <tr>\n",
       "      <th>42534</th>\n",
       "      <td>70681.0</td>\n",
       "      <td>5000.0</td>\n",
       "      <td>5000.0</td>\n",
       "      <td>0.0</td>\n",
       "      <td>36.0</td>\n",
       "      <td>7.75</td>\n",
       "      <td>156.11</td>\n",
       "      <td>2.0</td>\n",
       "      <td>16.0</td>\n",
       "      <td>30658.000000</td>\n",
       "      <td>...</td>\n",
       "      <td>156.39</td>\n",
       "      <td>1.422749e+09</td>\n",
       "      <td>794.0</td>\n",
       "      <td>790.0</td>\n",
       "      <td>1.0</td>\n",
       "      <td>0.0</td>\n",
       "      <td>0.0</td>\n",
       "      <td>0.0</td>\n",
       "      <td>0.0</td>\n",
       "      <td>1.0</td>\n",
       "    </tr>\n",
       "  </tbody>\n",
       "</table>\n",
       "<p>42535 rows × 54 columns</p>\n",
       "</div>"
      ],
      "text/plain": [
       "       member_id  loan_amnt  funded_amnt  funded_amnt_inv  term  int_rate  \\\n",
       "0      1296599.0     5000.0       5000.0           4975.0  36.0     10.65   \n",
       "1      1314167.0     2500.0       2500.0           2500.0  60.0     15.27   \n",
       "2      1313524.0     2400.0       2400.0           2400.0  36.0     15.96   \n",
       "3      1277178.0    10000.0      10000.0          10000.0  36.0     13.49   \n",
       "4      1311748.0     3000.0       3000.0           3000.0  60.0     12.69   \n",
       "...          ...        ...          ...              ...   ...       ...   \n",
       "42530    73096.0     3500.0       3500.0            225.0  36.0     10.28   \n",
       "42531    72992.0     1000.0       1000.0              0.0  36.0      9.64   \n",
       "42532    70868.0     2525.0       2525.0            225.0  36.0      9.33   \n",
       "42533    70735.0     6500.0       6500.0              0.0  36.0      8.38   \n",
       "42534    70681.0     5000.0       5000.0              0.0  36.0      7.75   \n",
       "\n",
       "       installment  grade  sub_grade     emp_title  ...  last_pymnt_amnt  \\\n",
       "0           162.87    0.0        0.0   2166.978765  ...           171.62   \n",
       "1            59.83    1.0        1.0      1.000000  ...           119.66   \n",
       "2            84.33    1.0        2.0    721.478503  ...           649.91   \n",
       "3           339.31    1.0        3.0      2.000000  ...           357.48   \n",
       "4            67.79    0.0        4.0      3.000000  ...            67.79   \n",
       "...            ...    ...        ...           ...  ...              ...   \n",
       "42530       113.39    1.0        3.0  30516.075282  ...             0.00   \n",
       "42531        32.11    0.0       13.0  30657.000000  ...            32.41   \n",
       "42532        80.69    0.0       12.0  28853.499629  ...            82.03   \n",
       "42533       204.84    2.0       17.0  28853.499916  ...           205.32   \n",
       "42534       156.11    2.0       16.0  30658.000000  ...           156.39   \n",
       "\n",
       "       last_credit_pull_d  last_fico_range_high  last_fico_range_low  \\\n",
       "0            1.472688e+09                 744.0                740.0   \n",
       "1            1.472688e+09                 499.0                  0.0   \n",
       "2            1.472688e+09                 719.0                715.0   \n",
       "3            1.459469e+09                 604.0                600.0   \n",
       "4            1.472688e+09                 694.0                690.0   \n",
       "...                   ...                   ...                  ...   \n",
       "42530        1.359677e+09                 819.0                815.0   \n",
       "42531        1.409530e+09                 784.0                780.0   \n",
       "42532        1.177978e+09                 714.0                710.0   \n",
       "42533        1.185926e+09                 724.0                720.0   \n",
       "42534        1.422749e+09                 794.0                790.0   \n",
       "\n",
       "       policy_code  acc_now_delinq  delinq_amnt  pub_rec_bankruptcies  \\\n",
       "0              1.0             0.0          0.0                   0.0   \n",
       "1              1.0             0.0          0.0                   0.0   \n",
       "2              1.0             0.0          0.0                   0.0   \n",
       "3              1.0             0.0          0.0                   0.0   \n",
       "4              1.0             0.0          0.0                   0.0   \n",
       "...            ...             ...          ...                   ...   \n",
       "42530          1.0             0.0          0.0                   0.0   \n",
       "42531          1.0             0.0          0.0                   0.0   \n",
       "42532          1.0             0.0          0.0                   0.0   \n",
       "42533          1.0             0.0          0.0                   0.0   \n",
       "42534          1.0             0.0          0.0                   0.0   \n",
       "\n",
       "       tax_liens  meet_credit_policy  \n",
       "0            0.0                 0.0  \n",
       "1            0.0                 0.0  \n",
       "2            0.0                 0.0  \n",
       "3            0.0                 0.0  \n",
       "4            0.0                 0.0  \n",
       "...          ...                 ...  \n",
       "42530        0.0                 1.0  \n",
       "42531        0.0                 1.0  \n",
       "42532        0.0                 1.0  \n",
       "42533        0.0                 1.0  \n",
       "42534        0.0                 1.0  \n",
       "\n",
       "[42535 rows x 54 columns]"
      ]
     },
     "execution_count": 20,
     "metadata": {},
     "output_type": "execute_result"
    }
   ],
   "source": [
    "filled"
   ]
  },
  {
   "cell_type": "code",
   "execution_count": 21,
   "metadata": {},
   "outputs": [
    {
     "data": {
      "text/plain": [
       "<AxesSubplot:>"
      ]
     },
     "execution_count": 21,
     "metadata": {},
     "output_type": "execute_result"
    },
    {
     "data": {
      "image/png": "[encoded data removed]",
      "text/plain": [
       "<Figure size 432x288 with 2 Axes>"
      ]
     },
     "metadata": {
      "needs_background": "light"
     },
     "output_type": "display_data"
    }
   ],
   "source": [
    "sns.heatmap(filled.isna())"
   ]
  },
  {
   "cell_type": "code",
   "execution_count": 22,
   "metadata": {},
   "outputs": [
    {
     "data": {
      "text/plain": [
       "member_id                  0.0\n",
       "loan_amnt                  0.0\n",
       "funded_amnt                0.0\n",
       "funded_amnt_inv            0.0\n",
       "term                       0.0\n",
       "int_rate                   0.0\n",
       "installment                0.0\n",
       "grade                      0.0\n",
       "sub_grade                  0.0\n",
       "emp_title                  0.0\n",
       "emp_length                 0.0\n",
       "home_ownership             0.0\n",
       "annual_inc                 0.0\n",
       "verification_status        0.0\n",
       "issue_d                    0.0\n",
       "loan_status                0.0\n",
       "pymnt_plan                 0.0\n",
       "desc                       0.0\n",
       "purpose                    0.0\n",
       "title                      0.0\n",
       "zip_code                   0.0\n",
       "addr_state                 0.0\n",
       "dti                        0.0\n",
       "delinq_2yrs                0.0\n",
       "earliest_cr_line           0.0\n",
       "fico_range_low             0.0\n",
       "fico_range_high            0.0\n",
       "inq_last_6mths             0.0\n",
       "mths_since_last_delinq     0.0\n",
       "open_acc                   0.0\n",
       "pub_rec                    0.0\n",
       "revol_bal                  0.0\n",
       "revol_util                 0.0\n",
       "total_acc                  0.0\n",
       "out_prncp                  0.0\n",
       "out_prncp_inv              0.0\n",
       "total_pymnt                0.0\n",
       "total_pymnt_inv            0.0\n",
       "total_rec_prncp            0.0\n",
       "total_rec_int              0.0\n",
       "total_rec_late_fee         0.0\n",
       "recoveries                 0.0\n",
       "collection_recovery_fee    0.0\n",
       "last_pymnt_d               0.0\n",
       "last_pymnt_amnt            0.0\n",
       "last_credit_pull_d         0.0\n",
       "last_fico_range_high       0.0\n",
       "last_fico_range_low        0.0\n",
       "policy_code                0.0\n",
       "acc_now_delinq             0.0\n",
       "delinq_amnt                0.0\n",
       "pub_rec_bankruptcies       0.0\n",
       "tax_liens                  0.0\n",
       "meet_credit_policy         0.0\n",
       "dtype: float64"
      ]
     },
     "execution_count": 22,
     "metadata": {},
     "output_type": "execute_result"
    }
   ],
   "source": [
    "filled.isnull().sum() * 100 / len(filled)"
   ]
  },
  {
   "cell_type": "code",
   "execution_count": 23,
   "metadata": {},
   "outputs": [],
   "source": [
    "filled.to_csv('./data/clean.csv')"
   ]
  },
  {
   "cell_type": "code",
   "execution_count": 24,
   "metadata": {},
   "outputs": [],
   "source": [
    "clean = pd.read_csv('./data/clean.csv', index_col=0)"
   ]
  },
  {
   "cell_type": "markdown",
   "metadata": {},
   "source": [
    "### Standardize the Data"
   ]
  },
  {
   "cell_type": "code",
   "execution_count": 25,
   "metadata": {},
   "outputs": [
    {
     "data": {
      "text/plain": [
       "0.0    42531\n",
       "1.0        4\n",
       "Name: acc_now_delinq, dtype: int64"
      ]
     },
     "execution_count": 25,
     "metadata": {},
     "output_type": "execute_result"
    }
   ],
   "source": [
    "clean.acc_now_delinq.value_counts()"
   ]
  },
  {
   "cell_type": "code",
   "execution_count": 26,
   "metadata": {},
   "outputs": [
    {
     "data": {
      "text/html": [
       "<div>\n",
       "<style scoped>\n",
       "    .dataframe tbody tr th:only-of-type {\n",
       "        vertical-align: middle;\n",
       "    }\n",
       "\n",
       "    .dataframe tbody tr th {\n",
       "        vertical-align: top;\n",
       "    }\n",
       "\n",
       "    .dataframe thead th {\n",
       "        text-align: right;\n",
       "    }\n",
       "</style>\n",
       "<table border=\"1\" class=\"dataframe\">\n",
       "  <thead>\n",
       "    <tr style=\"text-align: right;\">\n",
       "      <th></th>\n",
       "      <th>member_id</th>\n",
       "      <th>loan_amnt</th>\n",
       "      <th>funded_amnt</th>\n",
       "      <th>funded_amnt_inv</th>\n",
       "      <th>term</th>\n",
       "      <th>int_rate</th>\n",
       "      <th>installment</th>\n",
       "      <th>grade</th>\n",
       "      <th>sub_grade</th>\n",
       "      <th>emp_title</th>\n",
       "      <th>...</th>\n",
       "      <th>last_pymnt_amnt</th>\n",
       "      <th>last_credit_pull_d</th>\n",
       "      <th>last_fico_range_high</th>\n",
       "      <th>last_fico_range_low</th>\n",
       "      <th>policy_code</th>\n",
       "      <th>acc_now_delinq</th>\n",
       "      <th>delinq_amnt</th>\n",
       "      <th>pub_rec_bankruptcies</th>\n",
       "      <th>tax_liens</th>\n",
       "      <th>meet_credit_policy</th>\n",
       "    </tr>\n",
       "  </thead>\n",
       "  <tbody>\n",
       "    <tr>\n",
       "      <th>0</th>\n",
       "      <td>1296599.0</td>\n",
       "      <td>5000.0</td>\n",
       "      <td>5000.0</td>\n",
       "      <td>4975.0</td>\n",
       "      <td>36.0</td>\n",
       "      <td>10.65</td>\n",
       "      <td>162.87</td>\n",
       "      <td>0.0</td>\n",
       "      <td>0.0</td>\n",
       "      <td>2166.978765</td>\n",
       "      <td>...</td>\n",
       "      <td>171.62</td>\n",
       "      <td>1.472688e+09</td>\n",
       "      <td>744.0</td>\n",
       "      <td>740.0</td>\n",
       "      <td>1.0</td>\n",
       "      <td>0.0</td>\n",
       "      <td>0.0</td>\n",
       "      <td>0.0</td>\n",
       "      <td>0.0</td>\n",
       "      <td>0.0</td>\n",
       "    </tr>\n",
       "    <tr>\n",
       "      <th>1</th>\n",
       "      <td>1314167.0</td>\n",
       "      <td>2500.0</td>\n",
       "      <td>2500.0</td>\n",
       "      <td>2500.0</td>\n",
       "      <td>60.0</td>\n",
       "      <td>15.27</td>\n",
       "      <td>59.83</td>\n",
       "      <td>1.0</td>\n",
       "      <td>1.0</td>\n",
       "      <td>1.000000</td>\n",
       "      <td>...</td>\n",
       "      <td>119.66</td>\n",
       "      <td>1.472688e+09</td>\n",
       "      <td>499.0</td>\n",
       "      <td>0.0</td>\n",
       "      <td>1.0</td>\n",
       "      <td>0.0</td>\n",
       "      <td>0.0</td>\n",
       "      <td>0.0</td>\n",
       "      <td>0.0</td>\n",
       "      <td>0.0</td>\n",
       "    </tr>\n",
       "    <tr>\n",
       "      <th>2</th>\n",
       "      <td>1313524.0</td>\n",
       "      <td>2400.0</td>\n",
       "      <td>2400.0</td>\n",
       "      <td>2400.0</td>\n",
       "      <td>36.0</td>\n",
       "      <td>15.96</td>\n",
       "      <td>84.33</td>\n",
       "      <td>1.0</td>\n",
       "      <td>2.0</td>\n",
       "      <td>721.478503</td>\n",
       "      <td>...</td>\n",
       "      <td>649.91</td>\n",
       "      <td>1.472688e+09</td>\n",
       "      <td>719.0</td>\n",
       "      <td>715.0</td>\n",
       "      <td>1.0</td>\n",
       "      <td>0.0</td>\n",
       "      <td>0.0</td>\n",
       "      <td>0.0</td>\n",
       "      <td>0.0</td>\n",
       "      <td>0.0</td>\n",
       "    </tr>\n",
       "    <tr>\n",
       "      <th>3</th>\n",
       "      <td>1277178.0</td>\n",
       "      <td>10000.0</td>\n",
       "      <td>10000.0</td>\n",
       "      <td>10000.0</td>\n",
       "      <td>36.0</td>\n",
       "      <td>13.49</td>\n",
       "      <td>339.31</td>\n",
       "      <td>1.0</td>\n",
       "      <td>3.0</td>\n",
       "      <td>2.000000</td>\n",
       "      <td>...</td>\n",
       "      <td>357.48</td>\n",
       "      <td>1.459469e+09</td>\n",
       "      <td>604.0</td>\n",
       "      <td>600.0</td>\n",
       "      <td>1.0</td>\n",
       "      <td>0.0</td>\n",
       "      <td>0.0</td>\n",
       "      <td>0.0</td>\n",
       "      <td>0.0</td>\n",
       "      <td>0.0</td>\n",
       "    </tr>\n",
       "    <tr>\n",
       "      <th>4</th>\n",
       "      <td>1311748.0</td>\n",
       "      <td>3000.0</td>\n",
       "      <td>3000.0</td>\n",
       "      <td>3000.0</td>\n",
       "      <td>60.0</td>\n",
       "      <td>12.69</td>\n",
       "      <td>67.79</td>\n",
       "      <td>0.0</td>\n",
       "      <td>4.0</td>\n",
       "      <td>3.000000</td>\n",
       "      <td>...</td>\n",
       "      <td>67.79</td>\n",
       "      <td>1.472688e+09</td>\n",
       "      <td>694.0</td>\n",
       "      <td>690.0</td>\n",
       "      <td>1.0</td>\n",
       "      <td>0.0</td>\n",
       "      <td>0.0</td>\n",
       "      <td>0.0</td>\n",
       "      <td>0.0</td>\n",
       "      <td>0.0</td>\n",
       "    </tr>\n",
       "  </tbody>\n",
       "</table>\n",
       "<p>5 rows × 54 columns</p>\n",
       "</div>"
      ],
      "text/plain": [
       "   member_id  loan_amnt  funded_amnt  funded_amnt_inv  term  int_rate  \\\n",
       "0  1296599.0     5000.0       5000.0           4975.0  36.0     10.65   \n",
       "1  1314167.0     2500.0       2500.0           2500.0  60.0     15.27   \n",
       "2  1313524.0     2400.0       2400.0           2400.0  36.0     15.96   \n",
       "3  1277178.0    10000.0      10000.0          10000.0  36.0     13.49   \n",
       "4  1311748.0     3000.0       3000.0           3000.0  60.0     12.69   \n",
       "\n",
       "   installment  grade  sub_grade    emp_title  ...  last_pymnt_amnt  \\\n",
       "0       162.87    0.0        0.0  2166.978765  ...           171.62   \n",
       "1        59.83    1.0        1.0     1.000000  ...           119.66   \n",
       "2        84.33    1.0        2.0   721.478503  ...           649.91   \n",
       "3       339.31    1.0        3.0     2.000000  ...           357.48   \n",
       "4        67.79    0.0        4.0     3.000000  ...            67.79   \n",
       "\n",
       "   last_credit_pull_d  last_fico_range_high  last_fico_range_low  policy_code  \\\n",
       "0        1.472688e+09                 744.0                740.0          1.0   \n",
       "1        1.472688e+09                 499.0                  0.0          1.0   \n",
       "2        1.472688e+09                 719.0                715.0          1.0   \n",
       "3        1.459469e+09                 604.0                600.0          1.0   \n",
       "4        1.472688e+09                 694.0                690.0          1.0   \n",
       "\n",
       "   acc_now_delinq  delinq_amnt  pub_rec_bankruptcies  tax_liens  \\\n",
       "0             0.0          0.0                   0.0        0.0   \n",
       "1             0.0          0.0                   0.0        0.0   \n",
       "2             0.0          0.0                   0.0        0.0   \n",
       "3             0.0          0.0                   0.0        0.0   \n",
       "4             0.0          0.0                   0.0        0.0   \n",
       "\n",
       "   meet_credit_policy  \n",
       "0                 0.0  \n",
       "1                 0.0  \n",
       "2                 0.0  \n",
       "3                 0.0  \n",
       "4                 0.0  \n",
       "\n",
       "[5 rows x 54 columns]"
      ]
     },
     "execution_count": 26,
     "metadata": {},
     "output_type": "execute_result"
    }
   ],
   "source": [
    "clean.head()"
   ]
  },
  {
   "cell_type": "code",
   "execution_count": 42,
   "metadata": {},
   "outputs": [],
   "source": [
    "from sklearn.preprocessing import StandardScaler\n",
    "\n",
    "scaler = StandardScaler()\n",
    "scaled = pd.DataFrame(scaler.fit_transform(clean), columns=clean.columns)"
   ]
  },
  {
   "cell_type": "code",
   "execution_count": 43,
   "metadata": {},
   "outputs": [
    {
     "data": {
      "text/html": [
       "<div>\n",
       "<style scoped>\n",
       "    .dataframe tbody tr th:only-of-type {\n",
       "        vertical-align: middle;\n",
       "    }\n",
       "\n",
       "    .dataframe tbody tr th {\n",
       "        vertical-align: top;\n",
       "    }\n",
       "\n",
       "    .dataframe thead th {\n",
       "        text-align: right;\n",
       "    }\n",
       "</style>\n",
       "<table border=\"1\" class=\"dataframe\">\n",
       "  <thead>\n",
       "    <tr style=\"text-align: right;\">\n",
       "      <th></th>\n",
       "      <th>member_id</th>\n",
       "      <th>loan_amnt</th>\n",
       "      <th>funded_amnt</th>\n",
       "      <th>funded_amnt_inv</th>\n",
       "      <th>term</th>\n",
       "      <th>int_rate</th>\n",
       "      <th>installment</th>\n",
       "      <th>grade</th>\n",
       "      <th>sub_grade</th>\n",
       "      <th>emp_title</th>\n",
       "      <th>...</th>\n",
       "      <th>last_pymnt_amnt</th>\n",
       "      <th>last_credit_pull_d</th>\n",
       "      <th>last_fico_range_high</th>\n",
       "      <th>last_fico_range_low</th>\n",
       "      <th>policy_code</th>\n",
       "      <th>acc_now_delinq</th>\n",
       "      <th>delinq_amnt</th>\n",
       "      <th>pub_rec_bankruptcies</th>\n",
       "      <th>tax_liens</th>\n",
       "      <th>meet_credit_policy</th>\n",
       "    </tr>\n",
       "  </thead>\n",
       "  <tbody>\n",
       "    <tr>\n",
       "      <th>0</th>\n",
       "      <td>1.684555</td>\n",
       "      <td>-0.821731</td>\n",
       "      <td>-0.814569</td>\n",
       "      <td>-0.724217</td>\n",
       "      <td>-0.590645</td>\n",
       "      <td>-0.408592</td>\n",
       "      <td>-0.764644</td>\n",
       "      <td>-1.052549</td>\n",
       "      <td>-1.532735</td>\n",
       "      <td>-1.209827</td>\n",
       "      <td>...</td>\n",
       "      <td>-0.556675</td>\n",
       "      <td>0.841641</td>\n",
       "      <td>0.681962</td>\n",
       "      <td>0.534553</td>\n",
       "      <td>0.0</td>\n",
       "      <td>-0.009698</td>\n",
       "      <td>-0.00487</td>\n",
       "      <td>-0.229973</td>\n",
       "      <td>-0.007644</td>\n",
       "      <td>-0.262859</td>\n",
       "    </tr>\n",
       "    <tr>\n",
       "      <th>1</th>\n",
       "      <td>1.747401</td>\n",
       "      <td>-1.159074</td>\n",
       "      <td>-1.164374</td>\n",
       "      <td>-1.071264</td>\n",
       "      <td>1.693064</td>\n",
       "      <td>0.837399</td>\n",
       "      <td>-1.257836</td>\n",
       "      <td>-0.475941</td>\n",
       "      <td>-1.402702</td>\n",
       "      <td>-1.446590</td>\n",
       "      <td>...</td>\n",
       "      <td>-0.568524</td>\n",
       "      <td>0.841641</td>\n",
       "      <td>-2.372827</td>\n",
       "      <td>-5.683404</td>\n",
       "      <td>0.0</td>\n",
       "      <td>-0.009698</td>\n",
       "      <td>-0.00487</td>\n",
       "      <td>-0.229973</td>\n",
       "      <td>-0.007644</td>\n",
       "      <td>-0.262859</td>\n",
       "    </tr>\n",
       "    <tr>\n",
       "      <th>2</th>\n",
       "      <td>1.745101</td>\n",
       "      <td>-1.172567</td>\n",
       "      <td>-1.178366</td>\n",
       "      <td>-1.085286</td>\n",
       "      <td>-0.590645</td>\n",
       "      <td>1.023488</td>\n",
       "      <td>-1.140569</td>\n",
       "      <td>-0.475941</td>\n",
       "      <td>-1.272670</td>\n",
       "      <td>-1.367835</td>\n",
       "      <td>...</td>\n",
       "      <td>-0.447604</td>\n",
       "      <td>0.841641</td>\n",
       "      <td>0.370249</td>\n",
       "      <td>0.324487</td>\n",
       "      <td>0.0</td>\n",
       "      <td>-0.009698</td>\n",
       "      <td>-0.00487</td>\n",
       "      <td>-0.229973</td>\n",
       "      <td>-0.007644</td>\n",
       "      <td>-0.262859</td>\n",
       "    </tr>\n",
       "    <tr>\n",
       "      <th>3</th>\n",
       "      <td>1.615079</td>\n",
       "      <td>-0.147044</td>\n",
       "      <td>-0.114958</td>\n",
       "      <td>-0.019607</td>\n",
       "      <td>-0.590645</td>\n",
       "      <td>0.357342</td>\n",
       "      <td>0.079871</td>\n",
       "      <td>-0.475941</td>\n",
       "      <td>-1.142637</td>\n",
       "      <td>-1.446481</td>\n",
       "      <td>...</td>\n",
       "      <td>-0.514291</td>\n",
       "      <td>0.617720</td>\n",
       "      <td>-1.063631</td>\n",
       "      <td>-0.641817</td>\n",
       "      <td>0.0</td>\n",
       "      <td>-0.009698</td>\n",
       "      <td>-0.00487</td>\n",
       "      <td>-0.229973</td>\n",
       "      <td>-0.007644</td>\n",
       "      <td>-0.262859</td>\n",
       "    </tr>\n",
       "    <tr>\n",
       "      <th>4</th>\n",
       "      <td>1.738748</td>\n",
       "      <td>-1.091605</td>\n",
       "      <td>-1.094413</td>\n",
       "      <td>-1.001154</td>\n",
       "      <td>1.693064</td>\n",
       "      <td>0.141586</td>\n",
       "      <td>-1.219736</td>\n",
       "      <td>-1.052549</td>\n",
       "      <td>-1.012604</td>\n",
       "      <td>-1.446372</td>\n",
       "      <td>...</td>\n",
       "      <td>-0.580352</td>\n",
       "      <td>0.841641</td>\n",
       "      <td>0.058536</td>\n",
       "      <td>0.114421</td>\n",
       "      <td>0.0</td>\n",
       "      <td>-0.009698</td>\n",
       "      <td>-0.00487</td>\n",
       "      <td>-0.229973</td>\n",
       "      <td>-0.007644</td>\n",
       "      <td>-0.262859</td>\n",
       "    </tr>\n",
       "  </tbody>\n",
       "</table>\n",
       "<p>5 rows × 54 columns</p>\n",
       "</div>"
      ],
      "text/plain": [
       "   member_id  loan_amnt  funded_amnt  funded_amnt_inv      term  int_rate  \\\n",
       "0   1.684555  -0.821731    -0.814569        -0.724217 -0.590645 -0.408592   \n",
       "1   1.747401  -1.159074    -1.164374        -1.071264  1.693064  0.837399   \n",
       "2   1.745101  -1.172567    -1.178366        -1.085286 -0.590645  1.023488   \n",
       "3   1.615079  -0.147044    -0.114958        -0.019607 -0.590645  0.357342   \n",
       "4   1.738748  -1.091605    -1.094413        -1.001154  1.693064  0.141586   \n",
       "\n",
       "   installment     grade  sub_grade  emp_title  ...  last_pymnt_amnt  \\\n",
       "0    -0.764644 -1.052549  -1.532735  -1.209827  ...        -0.556675   \n",
       "1    -1.257836 -0.475941  -1.402702  -1.446590  ...        -0.568524   \n",
       "2    -1.140569 -0.475941  -1.272670  -1.367835  ...        -0.447604   \n",
       "3     0.079871 -0.475941  -1.142637  -1.446481  ...        -0.514291   \n",
       "4    -1.219736 -1.052549  -1.012604  -1.446372  ...        -0.580352   \n",
       "\n",
       "   last_credit_pull_d  last_fico_range_high  last_fico_range_low  policy_code  \\\n",
       "0            0.841641              0.681962             0.534553          0.0   \n",
       "1            0.841641             -2.372827            -5.683404          0.0   \n",
       "2            0.841641              0.370249             0.324487          0.0   \n",
       "3            0.617720             -1.063631            -0.641817          0.0   \n",
       "4            0.841641              0.058536             0.114421          0.0   \n",
       "\n",
       "   acc_now_delinq  delinq_amnt  pub_rec_bankruptcies  tax_liens  \\\n",
       "0       -0.009698     -0.00487             -0.229973  -0.007644   \n",
       "1       -0.009698     -0.00487             -0.229973  -0.007644   \n",
       "2       -0.009698     -0.00487             -0.229973  -0.007644   \n",
       "3       -0.009698     -0.00487             -0.229973  -0.007644   \n",
       "4       -0.009698     -0.00487             -0.229973  -0.007644   \n",
       "\n",
       "   meet_credit_policy  \n",
       "0           -0.262859  \n",
       "1           -0.262859  \n",
       "2           -0.262859  \n",
       "3           -0.262859  \n",
       "4           -0.262859  \n",
       "\n",
       "[5 rows x 54 columns]"
      ]
     },
     "execution_count": 43,
     "metadata": {},
     "output_type": "execute_result"
    }
   ],
   "source": [
    "scaled.head()"
   ]
  },
  {
   "cell_type": "code",
   "execution_count": 44,
   "metadata": {
    "scrolled": true
   },
   "outputs": [],
   "source": [
    "scaled.loan_status.unique()\n",
    "unMapStatus = {stat:i for i, stat in enumerate(scaled.loan_status.unique())}\n",
    "unMapStatus\n",
    "\n",
    "scaled['loan_status'] = scaled['loan_status'].replace(unMapStatus)\n",
    "scaled['loan_status'] = scaled['loan_status'].map(lambda x: int(x))"
   ]
  },
  {
   "cell_type": "code",
   "execution_count": 45,
   "metadata": {},
   "outputs": [],
   "source": [
    "defaulted = [6,9,1] ## show as True\n",
    "paid = [0,8] ## show as False\n",
    "to_drop = [2,3,4,5]\n",
    "\n",
    "scaled['default'] = scaled['loan_status'].map(lambda x: 1 if x in defaulted else 0)"
   ]
  },
  {
   "cell_type": "code",
   "execution_count": 49,
   "metadata": {},
   "outputs": [],
   "source": [
    "scaled = scaled.drop(scaled.loc[scaled.loan_status.isin(to_drop),:].index)"
   ]
  },
  {
   "cell_type": "code",
   "execution_count": 50,
   "metadata": {},
   "outputs": [],
   "source": [
    "## drop loan_status column to avoid multicollinearity on the default and loan_status columns\n",
    "scaled = scaled.drop(columns=['loan_status'])"
   ]
  },
  {
   "cell_type": "code",
   "execution_count": 51,
   "metadata": {},
   "outputs": [
    {
     "data": {
      "text/plain": [
       "0    36335\n",
       "1     5654\n",
       "Name: default, dtype: int64"
      ]
     },
     "execution_count": 51,
     "metadata": {},
     "output_type": "execute_result"
    }
   ],
   "source": [
    "scaled.default.value_counts()"
   ]
  },
  {
   "cell_type": "code",
   "execution_count": 66,
   "metadata": {},
   "outputs": [
    {
     "data": {
      "text/plain": [
       "<AxesSubplot:>"
      ]
     },
     "execution_count": 66,
     "metadata": {},
     "output_type": "execute_result"
    },
    {
     "data": {
      "image/png": "[encoded data removed]",
      "text/plain": [
       "<Figure size 432x288 with 1 Axes>"
      ]
     },
     "metadata": {
      "needs_background": "light"
     },
     "output_type": "display_data"
    }
   ],
   "source": [
    "scaled.default.value_counts().plot.bar()"
   ]
  },
  {
   "cell_type": "markdown",
   "metadata": {},
   "source": [
    "{'Fully Paid': 0,\n",
    " 'Charged Off': 1,\n",
    " 'Current': 2,\n",
    " 'In Grace Period': 3,\n",
    " 'Late (31-120 days)': 4,\n",
    " 'Late (16-30 days)': 5,\n",
    " 'Default': 6,\n",
    " nan: 7,\n",
    " 'Does not meet the credit policy. Status:Fully Paid': 8,\n",
    " 'Does not meet the credit policy. Status:Charged Off': 9}"
   ]
  },
  {
   "cell_type": "markdown",
   "metadata": {},
   "source": [
    "## Pre-Processing"
   ]
  },
  {
   "cell_type": "markdown",
   "metadata": {},
   "source": [
    "### <span id=\"preprocess\">The Train - Test Split</span>"
   ]
  },
  {
   "cell_type": "code",
   "execution_count": 52,
   "metadata": {},
   "outputs": [],
   "source": [
    "from sklearn.model_selection import train_test_split\n",
    "\n",
    "X = scaled.drop(columns='default')\n",
    "y = scaled.loc[:,['default']].values\n",
    "\n",
    "X_train, X_test, y_train, y_test = train_test_split(X, y, test_size=0.3, random_state=1)"
   ]
  },
  {
   "cell_type": "markdown",
   "metadata": {},
   "source": [
    "## Modeling"
   ]
  },
  {
   "cell_type": "markdown",
   "metadata": {},
   "source": [
    "### Random Forest"
   ]
  },
  {
   "cell_type": "code",
   "execution_count": 53,
   "metadata": {},
   "outputs": [],
   "source": [
    "from sklearn.ensemble import RandomForestClassifier\n",
    "\n",
    "clf = RandomForestClassifier(max_depth=2, random_state=0)\n",
    "clf.fit(X_train, y_train)\n",
    "\n",
    "y_pred = clf.predict(X_test)"
   ]
  },
  {
   "cell_type": "code",
   "execution_count": 54,
   "metadata": {},
   "outputs": [
    {
     "data": {
      "text/plain": [
       "0.7494600431965442"
      ]
     },
     "execution_count": 54,
     "metadata": {},
     "output_type": "execute_result"
    }
   ],
   "source": [
    "from sklearn.metrics import f1_score\n",
    "\n",
    "f1_score(y_test, y_pred, average='binary')"
   ]
  },
  {
   "cell_type": "markdown",
   "metadata": {},
   "source": [
    "### Adaboost"
   ]
  },
  {
   "cell_type": "code",
   "execution_count": 55,
   "metadata": {},
   "outputs": [
    {
     "data": {
      "text/plain": [
       "0.9865631531800538"
      ]
     },
     "execution_count": 55,
     "metadata": {},
     "output_type": "execute_result"
    }
   ],
   "source": [
    "from sklearn.ensemble import AdaBoostClassifier\n",
    "\n",
    "clf = AdaBoostClassifier(n_estimators=100, random_state=0)\n",
    "clf.fit(X_train, y_train)\n",
    "y_pred = clf.predict(X_test)\n",
    "\n",
    "f1_score(y_test, y_pred, average='binary')"
   ]
  },
  {
   "cell_type": "code",
   "execution_count": 56,
   "metadata": {},
   "outputs": [
    {
     "name": "stdout",
     "output_type": "stream",
     "text": [
      "0.9964277208859252\n"
     ]
    }
   ],
   "source": [
    "print(clf.score(X_test,y_test))"
   ]
  },
  {
   "cell_type": "markdown",
   "metadata": {},
   "source": [
    "### Logistic Regression"
   ]
  },
  {
   "cell_type": "code",
   "execution_count": 61,
   "metadata": {},
   "outputs": [
    {
     "data": {
      "text/plain": [
       "0.9778177458033573"
      ]
     },
     "execution_count": 61,
     "metadata": {},
     "output_type": "execute_result"
    }
   ],
   "source": [
    "from sklearn.linear_model import LogisticRegression\n",
    "\n",
    "clf = LogisticRegression(random_state=0).fit(X, y)\n",
    "y_pred = clf.predict(X_test)\n",
    "\n",
    "f1_score(y_test, y_pred, average='binary')"
   ]
  },
  {
   "cell_type": "markdown",
   "metadata": {},
   "source": [
    "### Naive Bayes"
   ]
  },
  {
   "cell_type": "code",
   "execution_count": 58,
   "metadata": {},
   "outputs": [
    {
     "data": {
      "text/plain": [
       "0.3333002874987608"
      ]
     },
     "execution_count": 58,
     "metadata": {},
     "output_type": "execute_result"
    }
   ],
   "source": [
    "from sklearn.naive_bayes import GaussianNB\n",
    "\n",
    "clf = GaussianNB()\n",
    "clf.fit(X_train, y_train)\n",
    "y_pred = clf.predict(X_test)\n",
    "\n",
    "f1_score(y_test, y_pred, average='binary')"
   ]
  },
  {
   "cell_type": "markdown",
   "metadata": {},
   "source": [
    "### Linear SVM"
   ]
  },
  {
   "cell_type": "code",
   "execution_count": 59,
   "metadata": {},
   "outputs": [
    {
     "data": {
      "text/plain": [
       "0.9877867143282693"
      ]
     },
     "execution_count": 59,
     "metadata": {},
     "output_type": "execute_result"
    }
   ],
   "source": [
    "from sklearn.svm import LinearSVC\n",
    "\n",
    "clf = LinearSVC(random_state=0, tol=1e-5)\n",
    "clf.fit(X_train, y_train)\n",
    "y_pred = clf.predict(X_test)\n",
    "\n",
    "f1_score(y_test, y_pred, average='binary')"
   ]
  },
  {
   "cell_type": "markdown",
   "metadata": {},
   "source": [
    "## Conclusion"
   ]
  },
  {
   "cell_type": "markdown",
   "metadata": {},
   "source": [
    "Linear SVM gave the best F1 score. I used this metric because it weighs precision and recall and is good for unbalanced data like the Lending Tree data. "
   ]
  },
  {
   "cell_type": "code",
   "execution_count": null,
   "metadata": {},
   "outputs": [],
   "source": []
  }
 ],
 "metadata": {
  "kernelspec": {
   "display_name": "Python 3",
   "language": "python",
   "name": "python3"
  },
  "language_info": {
   "codemirror_mode": {
    "name": "ipython",
    "version": 3
   },
   "file_extension": ".py",
   "mimetype": "text/x-python",
   "name": "python",
   "nbconvert_exporter": "python",
   "pygments_lexer": "ipython3",
   "version": "3.9.4"
  }
 },
 "nbformat": 4,
 "nbformat_minor": 4
}
